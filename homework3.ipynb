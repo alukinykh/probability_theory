{
 "cells": [
  {
   "cell_type": "markdown",
   "id": "b28e053c",
   "metadata": {},
   "source": [
    "Задача 1\n",
    "\n",
    "Даны значения зарплат из выборки выпускников:\n",
    "100, 80, 75, 77, 89, 33, 45, 25, 65, 17, 30, 230, 24, 57, 55, 70, 75, 65, 84, 90, 150\n",
    " \n",
    "Используя только встроенные питоновские функции и структуры данных (т.е. без библиотек numpy, pandas и др.), посчитайте (несмещённое) среднее квадратичное отклонение для данной выборки.\n"
   ]
  },
  {
   "cell_type": "code",
   "execution_count": 9,
   "id": "1a696f64",
   "metadata": {},
   "outputs": [],
   "source": [
    "from math import sqrt"
   ]
  },
  {
   "cell_type": "code",
   "execution_count": 1,
   "id": "9af3d1c0",
   "metadata": {},
   "outputs": [],
   "source": [
    "arr = [100, 80, 75, 77, 89, 33, 45, 25, 65, 17, 30, 230, 24, 57, 55, 70, 75, 65, 84, 90, 150]"
   ]
  },
  {
   "cell_type": "code",
   "execution_count": 2,
   "id": "24ad0547",
   "metadata": {},
   "outputs": [],
   "source": [
    "X = sum(arr) / len(arr)"
   ]
  },
  {
   "cell_type": "code",
   "execution_count": 4,
   "id": "b73ab77b",
   "metadata": {},
   "outputs": [
    {
     "data": {
      "text/plain": [
       "73.14285714285714"
      ]
     },
     "execution_count": 4,
     "metadata": {},
     "output_type": "execute_result"
    }
   ],
   "source": [
    "X # среднее арифметическое"
   ]
  },
  {
   "cell_type": "code",
   "execution_count": 11,
   "id": "eaaec31e",
   "metadata": {},
   "outputs": [],
   "source": [
    "result = sqrt(sum((x - X)**2 for x in arr)/(len(arr) - 1))"
   ]
  },
  {
   "cell_type": "code",
   "execution_count": 14,
   "id": "195dd74b",
   "metadata": {},
   "outputs": [
    {
     "name": "stdout",
     "output_type": "stream",
     "text": [
      "47.34795214\n"
     ]
    }
   ],
   "source": [
    "print(\"{:.8f}\".format(result))"
   ]
  },
  {
   "cell_type": "markdown",
   "id": "5b772ffc",
   "metadata": {},
   "source": [
    "Задача 2\n",
    "\n",
    "Найдите число выбросов в выборке из задачи 1. Для определения выбросов используйте методику как при построении “усов” в boxplot, однако, как и в задаче 1, пользоваться можно только встроенными функциями и структурами данных."
   ]
  },
  {
   "cell_type": "code",
   "execution_count": 15,
   "id": "e9e13503",
   "metadata": {},
   "outputs": [],
   "source": [
    "sorted_arr = sorted(arr)"
   ]
  },
  {
   "cell_type": "code",
   "execution_count": 30,
   "id": "f0c02109",
   "metadata": {},
   "outputs": [
    {
     "data": {
      "text/plain": [
       "[17,\n",
       " 24,\n",
       " 25,\n",
       " 30,\n",
       " 33,\n",
       " 45,\n",
       " 55,\n",
       " 57,\n",
       " 65,\n",
       " 65,\n",
       " 70,\n",
       " 75,\n",
       " 75,\n",
       " 77,\n",
       " 80,\n",
       " 84,\n",
       " 89,\n",
       " 90,\n",
       " 100,\n",
       " 150,\n",
       " 230]"
      ]
     },
     "execution_count": 30,
     "metadata": {},
     "output_type": "execute_result"
    }
   ],
   "source": [
    "sorted_arr"
   ]
  },
  {
   "cell_type": "code",
   "execution_count": 20,
   "id": "d774373a",
   "metadata": {},
   "outputs": [],
   "source": [
    "q2 = sorted_arr[len(arr) // 2]"
   ]
  },
  {
   "cell_type": "code",
   "execution_count": 22,
   "id": "e130d1df",
   "metadata": {},
   "outputs": [],
   "source": [
    "q1 = sorted_arr[len(arr) // 4]"
   ]
  },
  {
   "cell_type": "code",
   "execution_count": 23,
   "id": "7c0c33b4",
   "metadata": {},
   "outputs": [],
   "source": [
    "q3 = sorted_arr[3 * len(arr) // 4]"
   ]
  },
  {
   "cell_type": "code",
   "execution_count": 24,
   "id": "e0ffaec2",
   "metadata": {},
   "outputs": [
    {
     "data": {
      "text/plain": [
       "(45, 70, 84)"
      ]
     },
     "execution_count": 24,
     "metadata": {},
     "output_type": "execute_result"
    }
   ],
   "source": [
    "q1, q2, q3"
   ]
  },
  {
   "cell_type": "code",
   "execution_count": 26,
   "id": "f23a60b6",
   "metadata": {},
   "outputs": [],
   "source": [
    "iqr = q3 - q1"
   ]
  },
  {
   "cell_type": "code",
   "execution_count": 31,
   "id": "1ae9cd84",
   "metadata": {},
   "outputs": [],
   "source": [
    "lower_bound = q1 - 1.5 * iqr"
   ]
  },
  {
   "cell_type": "code",
   "execution_count": 33,
   "id": "8167eb68",
   "metadata": {},
   "outputs": [],
   "source": [
    "upper_bound = q3 + 1.5 * iqr"
   ]
  },
  {
   "cell_type": "code",
   "execution_count": 35,
   "id": "3bafd097",
   "metadata": {},
   "outputs": [],
   "source": [
    "result = sum(1 for i in sorted_arr if i < lower_bound or i > upper_bound)"
   ]
  },
  {
   "cell_type": "code",
   "execution_count": 36,
   "id": "d1238218",
   "metadata": {},
   "outputs": [
    {
     "data": {
      "text/plain": [
       "2"
      ]
     },
     "execution_count": 36,
     "metadata": {},
     "output_type": "execute_result"
    }
   ],
   "source": [
    "result # число выбросов в выборке"
   ]
  },
  {
   "cell_type": "markdown",
   "id": "5a7b22c1",
   "metadata": {},
   "source": [
    "Задача 3\n",
    "\n",
    "В университет на факультет A поступило 100 человек, на факультет B - 90 человек и на факультет C - 45 человек. Вероятность того, что студент с факультета A сдаст первую сессию, равна 0.6. Для студента с факультета B эта вероятность равна 0.7, а для студента с факультета C - 0.8. Случайным образом выбирается студент, сдавший первую сессию. Какое событие наиболее вероятно:\n",
    "\n",
    "    1)студент учится на факультете A,\n",
    "    2)студент учится на факультете B,\n",
    "    3)студент учится на факультете C?\n",
    "\n",
    "Замечание: да, эта задача не на тему статистики, но тема важная, и её стоит иногда освежать в памяти."
   ]
  },
  {
   "cell_type": "code",
   "execution_count": 43,
   "id": "d1cad4d5",
   "metadata": {},
   "outputs": [],
   "source": [
    "p_a = 100 / 235\n",
    "p_b = 90 / 235\n",
    "p_c = 45 / 235"
   ]
  },
  {
   "cell_type": "code",
   "execution_count": 44,
   "id": "03577de2",
   "metadata": {},
   "outputs": [],
   "source": [
    "p_sa = 0.6\n",
    "p_sb = 0.7\n",
    "p_sc = 0.8"
   ]
  },
  {
   "cell_type": "code",
   "execution_count": 45,
   "id": "1adefbfc",
   "metadata": {},
   "outputs": [],
   "source": [
    "p_s = p_sa * p_a + p_sb * p_b + p_sc * p_c"
   ]
  },
  {
   "cell_type": "code",
   "execution_count": 46,
   "id": "638a1e3a",
   "metadata": {},
   "outputs": [
    {
     "data": {
      "text/plain": [
       "(0.3773584905660377, 0.39622641509433965, 0.22641509433962265)"
      ]
     },
     "execution_count": 46,
     "metadata": {},
     "output_type": "execute_result"
    }
   ],
   "source": [
    "p_as = p_sa * p_a / p_s\n",
    "p_bs = p_sb * p_b / p_s\n",
    "p_cs = p_sc * p_c / p_s\n",
    "\n",
    "p_as, p_bs, p_cs"
   ]
  },
  {
   "cell_type": "markdown",
   "id": "81a12e52",
   "metadata": {},
   "source": [
    "Ответ: наиболее вероятно событие 2."
   ]
  },
  {
   "cell_type": "code",
   "execution_count": null,
   "id": "67a4132c",
   "metadata": {},
   "outputs": [],
   "source": []
  }
 ],
 "metadata": {
  "kernelspec": {
   "display_name": "Python 3 (ipykernel)",
   "language": "python",
   "name": "python3"
  },
  "language_info": {
   "codemirror_mode": {
    "name": "ipython",
    "version": 3
   },
   "file_extension": ".py",
   "mimetype": "text/x-python",
   "name": "python",
   "nbconvert_exporter": "python",
   "pygments_lexer": "ipython3",
   "version": "3.9.0"
  }
 },
 "nbformat": 4,
 "nbformat_minor": 5
}
