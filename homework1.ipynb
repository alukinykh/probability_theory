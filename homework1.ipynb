{
 "cells": [
  {
   "cell_type": "markdown",
   "id": "0e5ad42f",
   "metadata": {},
   "source": [
    "Задача 1\n",
    "\n",
    "Имеется колода в 52 карты. Найти число возможностей вытянуть из неё 4 карты так, чтобы среди них был хотя бы один туз."
   ]
  },
  {
   "cell_type": "code",
   "execution_count": 2,
   "id": "c51d511a",
   "metadata": {},
   "outputs": [],
   "source": [
    "import numpy as np"
   ]
  },
  {
   "cell_type": "code",
   "execution_count": 3,
   "id": "5a876d39",
   "metadata": {},
   "outputs": [],
   "source": [
    "def combinations(n: int, k: int) -> int:   \n",
    "    return np.math.factorial(n) // (np.math.factorial(k) * np.math.factorial(n - k))"
   ]
  },
  {
   "cell_type": "code",
   "execution_count": 4,
   "id": "8d6ec228",
   "metadata": {},
   "outputs": [
    {
     "data": {
      "text/plain": [
       "76145"
      ]
     },
     "execution_count": 4,
     "metadata": {},
     "output_type": "execute_result"
    }
   ],
   "source": [
    "sum(combinations(4, i) * combinations(48, 4 - i) for i in range(1, 5))"
   ]
  },
  {
   "cell_type": "markdown",
   "id": "fed396cb",
   "metadata": {},
   "source": [
    "Задачи 2 и 3\n",
    "\n",
    "Из 60 вопросов, входящих в экзаменационные билеты, студент знает 50. Случайным образом студент вытягивает 3 вопроса. Какова вероятность, что все выбранные вопросы знакомы студенту? Какова вероятность что два из трёх вопросов знакомы студенту?"
   ]
  },
  {
   "cell_type": "markdown",
   "id": "e97f3d59",
   "metadata": {},
   "source": [
    "Рассмотрим каждое вытягивание билета как отдельное событие.\n",
    "Вытягивание трёх знакомых билетов:"
   ]
  },
  {
   "cell_type": "code",
   "execution_count": 11,
   "id": "a27d9208",
   "metadata": {},
   "outputs": [
    {
     "data": {
      "text/plain": [
       "0.5727644652250146"
      ]
     },
     "execution_count": 11,
     "metadata": {},
     "output_type": "execute_result"
    }
   ],
   "source": [
    "(50/60)*(49/59)*(48/58)"
   ]
  },
  {
   "cell_type": "markdown",
   "id": "2cf5b44f",
   "metadata": {},
   "source": [
    "Вытиягивание 2-х знакомых и одного незнакомого билета, незнакомый может быть вытянут первым, вторым или третьим:"
   ]
  },
  {
   "cell_type": "code",
   "execution_count": 13,
   "id": "279d5fb3",
   "metadata": {},
   "outputs": [
    {
     "data": {
      "text/plain": [
       "0.35797779076563413"
      ]
     },
     "execution_count": 13,
     "metadata": {},
     "output_type": "execute_result"
    }
   ],
   "source": [
    "(50/60)*(49/59)*(10/58)+(50/60)*(10/59)*(49/58)+(10/60)*(50/59)*(49/58)"
   ]
  },
  {
   "cell_type": "markdown",
   "id": "07815201",
   "metadata": {},
   "source": [
    "Задача 4\n",
    "\n",
    "Допустим, имеется некоторая очень редкая болезнь (поражает 0.1% населения). Вы приходите к врачу, вам делают тест на эту болезнь, и тест оказывается положительным. Врач говорит вам, что этот тест верно выявляет 99% больных этой болезнью и всего лишь в 1% случаев даёт ложный положительный ответ.\n",
    "\n",
    "Вопрос: какова вероятность, что вы действительно больны ей?"
   ]
  },
  {
   "cell_type": "markdown",
   "id": "87a9e637",
   "metadata": {},
   "source": [
    "A - болен\n",
    "\n",
    "B - тест положительный\n",
    "\n",
    "Рассчитаем вероятность получения положительного теста по формуле полной вероятности:"
   ]
  },
  {
   "cell_type": "code",
   "execution_count": 17,
   "id": "ab2f2bcc",
   "metadata": {},
   "outputs": [
    {
     "data": {
      "text/plain": [
       "0.01098"
      ]
     },
     "execution_count": 17,
     "metadata": {},
     "output_type": "execute_result"
    }
   ],
   "source": [
    "0.99*0.001+0.01*0.999"
   ]
  },
  {
   "cell_type": "markdown",
   "id": "6908bd0f",
   "metadata": {},
   "source": [
    "По формуле Байеса рассчитаем вероятность A при наступившем B"
   ]
  },
  {
   "cell_type": "code",
   "execution_count": 19,
   "id": "502386e2",
   "metadata": {},
   "outputs": [
    {
     "data": {
      "text/plain": [
       "0.09016393442622951"
      ]
     },
     "execution_count": 19,
     "metadata": {},
     "output_type": "execute_result"
    }
   ],
   "source": [
    "(0.99*0.001)/(0.01098)"
   ]
  },
  {
   "cell_type": "code",
   "execution_count": null,
   "id": "b54a7a73",
   "metadata": {},
   "outputs": [],
   "source": []
  }
 ],
 "metadata": {
  "kernelspec": {
   "display_name": "Python 3 (ipykernel)",
   "language": "python",
   "name": "python3"
  },
  "language_info": {
   "codemirror_mode": {
    "name": "ipython",
    "version": 3
   },
   "file_extension": ".py",
   "mimetype": "text/x-python",
   "name": "python",
   "nbconvert_exporter": "python",
   "pygments_lexer": "ipython3",
   "version": "3.9.0"
  }
 },
 "nbformat": 4,
 "nbformat_minor": 5
}
