{
 "cells": [
  {
   "cell_type": "markdown",
   "id": "191ff0c5",
   "metadata": {},
   "source": [
    "Задачи 1 и 2\n",
    "\n",
    "Контрольная работа состоит из пяти вопросов. На каждый вопрос приведено четыре варианта ответа, один из которых правильный. Случайная величина X задаёт число правильных ответов при простом угадывании. Найдите математическое ожидание данной случайной величины. Найдите дисперсию случайной величины X.\n",
    "\n",
    "Подсказка: постройте закон распределения случайной величины X."
   ]
  },
  {
   "cell_type": "markdown",
   "id": "8a33bda1",
   "metadata": {},
   "source": [
    "Вероятность угадать ответ из 4 вариантов 1/4.\n",
    "\n",
    "Распределение случайной величины X описывается биномиальным законом"
   ]
  },
  {
   "cell_type": "markdown",
   "id": "7d25c522",
   "metadata": {},
   "source": [
    "M(X) = np"
   ]
  },
  {
   "cell_type": "code",
   "execution_count": 3,
   "id": "bce48ce9",
   "metadata": {},
   "outputs": [
    {
     "data": {
      "text/plain": [
       "1.25"
      ]
     },
     "execution_count": 3,
     "metadata": {},
     "output_type": "execute_result"
    }
   ],
   "source": [
    "5 * 1/4"
   ]
  },
  {
   "cell_type": "markdown",
   "id": "c8b18d62",
   "metadata": {},
   "source": [
    "D(X) = np(1 − p)"
   ]
  },
  {
   "cell_type": "code",
   "execution_count": 4,
   "id": "75f0b7c6",
   "metadata": {},
   "outputs": [
    {
     "data": {
      "text/plain": [
       "0.9375"
      ]
     },
     "execution_count": 4,
     "metadata": {},
     "output_type": "execute_result"
    }
   ],
   "source": [
    "5 * 1/4 * (1-1/4)"
   ]
  },
  {
   "cell_type": "markdown",
   "id": "983d59b0",
   "metadata": {},
   "source": [
    "Задача 3\n",
    "\n",
    "Пользователь получает в среднем 10 писем со спамом на свой почтовый ящик за сутки. Найти число N, такое, что с вероятностью 0.95 пользователь получит не более N писем со спамом за текущий день."
   ]
  },
  {
   "cell_type": "markdown",
   "id": "5554ed7f",
   "metadata": {},
   "source": [
    "Распределение Пуассона с параметром λ = 10"
   ]
  },
  {
   "cell_type": "code",
   "execution_count": 9,
   "id": "82b724ef",
   "metadata": {},
   "outputs": [],
   "source": [
    "import numpy as np\n",
    "def poisson_proba(k: int, lambda_: float) -> float:\n",
    "    \"\"\"Формула Пуассона.\n",
    "    \"\"\"\n",
    "    \n",
    "    return (lambda_ ** k) * (np.exp(-lambda_)) / np.math.factorial(k)"
   ]
  },
  {
   "cell_type": "code",
   "execution_count": 10,
   "id": "f522a3a8",
   "metadata": {},
   "outputs": [],
   "source": [
    "p = 0.0\n",
    "N = 0\n",
    "while p < 0.95:\n",
    "    p += poisson_proba(k=N, lambda_=10)\n",
    "    N += 1"
   ]
  },
  {
   "cell_type": "code",
   "execution_count": 11,
   "id": "f42860ae",
   "metadata": {},
   "outputs": [
    {
     "data": {
      "text/plain": [
       "15"
      ]
     },
     "execution_count": 11,
     "metadata": {},
     "output_type": "execute_result"
    }
   ],
   "source": [
    "N - 1"
   ]
  },
  {
   "cell_type": "markdown",
   "id": "dd53dd24",
   "metadata": {},
   "source": [
    "Задача 4\n",
    "\n",
    "Производятся выстрелы по мишени. Вероятность попадания в мишень при одном выстреле равна 0.01. Сколько выстрелов нужно сделать чтобы быть уверенным с вероятностью 0.9, что хотя бы 6 раз будет совершено попадание?\n",
    "\n",
    "Подсказка: 1) \"Вероятность попасть k раз при n выстрелах\" - на какое распределение это похоже? 2) А если нам нужна вероятность P(X >= k), а не P(X = k)? 3) Здесь предстоит немножко покодить."
   ]
  },
  {
   "cell_type": "markdown",
   "id": "8a2a6660",
   "metadata": {},
   "source": [
    "Биномиальное распределение."
   ]
  },
  {
   "cell_type": "markdown",
   "id": "0c2850bc",
   "metadata": {},
   "source": [
    "P(X >= 6) = 1 - P(X < 6)"
   ]
  },
  {
   "cell_type": "code",
   "execution_count": 21,
   "id": "18433061",
   "metadata": {},
   "outputs": [],
   "source": [
    "def combinations(n: int, k: int) -> int:\n",
    "    \"\"\"Число сочетаний.\n",
    "    \"\"\"\n",
    "    return np.math.factorial(n) // (np.math.factorial(k) * np.math.factorial(n - k))\n",
    "\n",
    "def bernuli(n,k,p):\n",
    "    return combinations(n,k) * (p**k) * ((1-p)**(n-k))"
   ]
  },
  {
   "cell_type": "code",
   "execution_count": 30,
   "id": "7eb85556",
   "metadata": {},
   "outputs": [],
   "source": [
    "n = 6\n",
    "while (1 - sum(bernuli(n, i, 0.01) for i in range(6))) < 0.9:\n",
    "    n += 1"
   ]
  },
  {
   "cell_type": "code",
   "execution_count": 32,
   "id": "82227413",
   "metadata": {},
   "outputs": [
    {
     "data": {
      "text/plain": [
       "926"
      ]
     },
     "execution_count": 32,
     "metadata": {},
     "output_type": "execute_result"
    }
   ],
   "source": [
    "n"
   ]
  },
  {
   "cell_type": "code",
   "execution_count": null,
   "id": "9c37505c",
   "metadata": {},
   "outputs": [],
   "source": []
  }
 ],
 "metadata": {
  "kernelspec": {
   "display_name": "Python 3 (ipykernel)",
   "language": "python",
   "name": "python3"
  },
  "language_info": {
   "codemirror_mode": {
    "name": "ipython",
    "version": 3
   },
   "file_extension": ".py",
   "mimetype": "text/x-python",
   "name": "python",
   "nbconvert_exporter": "python",
   "pygments_lexer": "ipython3",
   "version": "3.9.0"
  }
 },
 "nbformat": 4,
 "nbformat_minor": 5
}
